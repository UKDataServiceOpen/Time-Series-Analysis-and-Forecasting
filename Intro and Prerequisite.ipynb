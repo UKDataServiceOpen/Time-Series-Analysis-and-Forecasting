{
    "cells": [
        {
            "cell_type": "markdown",
            "metadata": {},
            "source": [
                "## Introduction\n",
                "\n",
                "This script provides an introduction to the components of time series analysis and forecasting. Time series analysis and forecasting are among the most common quantitative techniques employed by businesses and researchers. Largely used in big data, these methods are used to identify trends, clean your data, and to predict the future. This workshop begins by exploring the underlying concepts and components of time series analysis, then moves on to a code demonstration that uses open-sourced police recorded crime statistics to visually explore these components. Participants are invited to work alongside the code demonstration to gain hands-on and practical skills.\n",
                "\n",
                "At a more technical level we will be exploring the statistical components that make up a time series, such as the level, trend, seasonality and noise. We will also explore some functions that can be used to examine stationarity and the functions to apply differencing technique. Finally, a quick example of an S/ARIMA model will be demonstrated using some open sourced crime data from the R package *crimedata*. \n",
                "\n",
                "This script links the references used in the slide, and details some information about how to set your working directory in R by cloning the Github Link onto your own compute. \n",
                "\n",
                "\n",
                "## Reference\n",
                "\n",
                "The forecasts from the SARIMA models were replicated from Matthew Ashby's paper that explore 'the initial evidence between the coronovirus pandemic and crime in the UNited States' <https://crimesciencejournal.biomedcentral.com/articles/10.1186/s40163-020-00117-6>.\n",
                "\n",
                "This webinar used open source crime data via <https://cran.r-project.org/web/packages/crimedata/vignettes/introduction.html>. Also created by Mathew Ashby, the data provides access to police-recorded crime data from various US cities using the Crime Open Database (CODE) <https://osf.io/zyaqn/>. CODE simply provides the data in a more useful format for analysis.\n",
                "\n",
                "\n",
                "## Set your working directory\n",
                "\n",
                "You are invited to work alongside the code demonstration or to simply watch the webinar as I talk through the code\n",
                "\n",
                "If you decide you want to work alongside the code demonstration I would suggest cloning the repo from Github. You can easily do this by starting up R Studio on your computer and following these steps;\n",
                "\n",
                "*File -\\> New Project -\\> Version Control -\\> Git -\\> Paste the HTTPS link -\\> select the R work space folder and create the project*\n",
                "\n",
                "*Tip: Click 'Open in New Session' as this will avoid confusion later one*\n",
                "\n",
                "\n",
                "The Github link is; <https://github.com/UKDataServiceOpen/Time-Series-Analysis-and-Forecasting.git>\n",
                "\n",
                "\n",
                "## Install Packages\n",
                "\n",
                "The R packaged named 'crimedata' package allows you to download and explore crime type by the year and city. \n"
            ]
        },
        {
            "cell_type": "code",
            "execution_count": null,
            "metadata": {},
            "outputs": [],
            "source": [
                "install.packages(\"crimedata\")\n",
                "       #or \n",
                "devtools::install_github(\"mpjashby/crimedata\")\n"
            ]
        },
        {
            "cell_type": "markdown",
            "metadata": {},
            "source": [
                "We will also be using various other packages for data manipulation and for running the time series analysis and forecasts, so ensure these are also installed.\n",
                "\n"
            ]
        },
        {
            "cell_type": "code",
            "execution_count": null,
            "metadata": {},
            "outputs": [],
            "source": [
                "install.packages(\"dplyr\")\n",
                "install.packages(\"fable\")\n",
                "install.packages(\"tsibble\")\n",
                "install.packages(\"ggplot2\")\n",
                "install.packages(\"lubridate\")\n",
                "install.packages(\"forecast\")\n",
                "install.packages(\"TTR\")\n",
                "install.packages(\"tseries\")\n",
                "install.packages(\"readr\")\n",
                "install.packages(\"ggfortify\")\n"
            ]
        },
        {
            "cell_type": "markdown",
            "metadata": {},
            "source": [
                "## Load Packages\n",
                "\n",
                "You will then need to use the 'library' function to load the packages into your R Studios\n"
            ]
        },
        {
            "cell_type": "code",
            "execution_count": null,
            "metadata": {},
            "outputs": [],
            "source": [
                "library(crimedata) # package containing the crime data \n",
                "library(dplyr) #for data manipulation \n",
                "library(fable) # for time series forecasting models\n",
                "library(tsibble) #for data manipulation \n",
                "library(ggplot2) #for plotting\n",
                "library(lubridate) #for data manipulation \n",
                "library(forecast) # to create S/ARIMA models\n",
                "library(TTR) # to create rolling averages\n",
                "library(tseries) #to create time series plot \n",
                "library(readr) #to read in data\n",
                "library(ggfortify) #plotting tool for time series/PCA/cluster and survival analysis\n"
            ]
        }
    ],
    "metadata": {
        "anaconda-cloud": "",
        "kernelspec": {
            "display_name": "R",
            "langauge": "R",
            "name": "ir"
        },
        "language_info": {
            "codemirror_mode": "r",
            "file_extension": ".r",
            "mimetype": "text/x-r-source",
            "name": "R",
            "pygments_lexer": "r",
            "version": "3.4.1"
        }
    },
    "nbformat": 4,
    "nbformat_minor": 1
}
