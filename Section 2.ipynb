{
    "cells": [
        {
            "cell_type": "markdown",
            "metadata": {},
            "source": [
                "This section will use some open sourced crime data from the 'crimedata' package to examine the aims from the powerpoint slides;\n",
                "\n",
                "Aim:\n",
                "A) Explore the long-term trend and seasonality in ‘Burglary’ across the city of Detroit\n",
                "\n",
                "B) How the frequency of Burglary changed in Detroit in 2020 (the start of the pandemic) \n",
                "\n",
                "\n",
                "## Load Packages\n"
            ]
        },
        {
            "cell_type": "code",
            "execution_count": null,
            "metadata": {},
            "outputs": [],
            "source": [
                "library(crimedata) # package containing the crime data \n",
                "library(dplyr) #for data manipulation \n",
                "library(fable) # for time series forecasting models\n",
                "library(tsibble) #for data manipulation \n",
                "library(ggplot2) #for plotting\n",
                "library(lubridate) #for data manipulation \n",
                "library(forecast) # to create S/ARIMA models\n",
                "library(TTR) # to create rolling averages\n",
                "library(tseries) #to create time series plot \n",
                "library(readr) #to read in data\n",
                "library(ggfortify) #plotting tool for time series/PCA/cluster and survival analysis\n"
            ]
        },
        {
            "cell_type": "markdown",
            "metadata": {},
            "source": [
                "## Download Data from Detroit 2015 - 2020\n",
                "\n",
                "Using the *list_crime_data* and the *get_crime_data* we can go ahead and select the years and city we would like to use. \n",
                "\n",
                "The \n"
            ]
        },
        {
            "cell_type": "code",
            "execution_count": null,
            "metadata": {},
            "outputs": [],
            "source": [
                "#to get a full list of what years are available from which city we can use \n",
                "#Downloading list of URLs for data files. This takes a few seconds but is only done once per session.\n",
                "list_crime_data()\n",
                "\n",
                "\n",
                "#read the data for Detroit, 2015 - 2020\n",
                "crime <- get_crime_data(\n",
                "  cities = \"Detroit\",\n",
                "  years = 2015:2020,     \n",
                "  type = \"core\"\n",
                "# you can add a filter(offense_gropp == \"...\") \n",
                "  ) \n"
            ]
        },
        {
            "cell_type": "markdown",
            "metadata": {},
            "source": [
                "## Briefly Explore the Dataset \n",
                "\n"
            ]
        },
        {
            "cell_type": "code",
            "execution_count": null,
            "metadata": {},
            "outputs": [],
            "source": [
                "#summary of data\n",
                "head(crime)\n",
                "tail(crime)\n",
                "\n",
                "#group by offence type and count the data\n",
                "crime %>% group_by(offense_type) %>% count %>% View()\n",
                "\n",
                "#group by offence type and count the data\n",
                "crime %>% group_by(offense_type) %>% count %>% View()\n"
            ]
        },
        {
            "cell_type": "markdown",
            "metadata": {},
            "source": [
                "## The Reliability of Crime Statistics\n",
                "\n",
                "\n",
                "You may have noticed that some of our crime counts are really low - what does this mean for your analysis? As mentioned in the slides, a small dataset can increase the amount of noise in your dataset - that is the uncontrolled variation. \n",
                "\n",
                "One way we can reduce this noise is by grouping those crime categoires with less than an 'X' amount. \n"
            ]
        },
        {
            "cell_type": "code",
            "execution_count": null,
            "metadata": {},
            "outputs": [],
            "source": [
                "#group by offence type and count the data\n",
                "detroit %>% group_by(offense_group) %>% count() %>% View()\n",
                "\n",
                "#remove those small counts of crime to reduce unwanted variation \n",
                "\n",
                "detroit <- detroit %>%\n",
                "  mutate(offense_group = as.character(offense_group))\n",
                "\n",
                "minor <- detroit %>% \n",
                "  count(offense_group) %>%\n",
                "  filter(n < 1000) %>%\n",
                "  pull(offense_group)\n",
                "\n",
                "minor\n",
                "\n",
                "detroit <- mutate(\n",
                "  detroit,\n",
                "  offense_group = case_when(\n",
                "    offense_group %in% minor ~ \"minor crimes (<1000)\", \n",
                "    TRUE ~ offense_group\n",
                "  )\n",
                ")\n",
                "\n",
                "#view the new category\n",
                "detroit %>% group_by(offense_group) %>% count() %>% View()\n"
            ]
        },
        {
            "cell_type": "markdown",
            "metadata": {},
            "source": [
                "## Filter for just Burglary Offences\n",
                "\n"
            ]
        },
        {
            "cell_type": "code",
            "execution_count": null,
            "metadata": {},
            "outputs": [],
            "source": [
                "#filter the variables of interest \n",
                "detroit <- crime %>% \n",
                "  filter(offense_group %in% \"burglary/breaking & entering\") %>%\n",
                "  select(city_name, offense_group, date_single)\n",
                "\n",
                "head(detroit)\n"
            ]
        },
        {
            "cell_type": "markdown",
            "metadata": {},
            "source": [
                "## Object Class for Time/Date Variables\n",
                "\n"
            ]
        },
        {
            "cell_type": "code",
            "execution_count": null,
            "metadata": {},
            "outputs": [],
            "source": [
                "class(detroit)\n",
                "class(detroit$offense_group)\n"
            ]
        },
        {
            "cell_type": "markdown",
            "metadata": {},
            "source": [
                "As we can see our crime data set is currently just a 'tbl' or 'data.from. \n",
                "\n",
                "However, some functions within the package 'fable' require you to turn a dataset into a 'ts object' You can still create time series plots without converting your data set, and we can do this within ggplot. \n",
                "\n",
                "\n",
                "What about with the time variable?\n"
            ]
        },
        {
            "cell_type": "code",
            "execution_count": null,
            "metadata": {},
            "outputs": [],
            "source": [
                "class(detroit$date_single)\n",
                "\n"
            ]
        },
        {
            "cell_type": "markdown",
            "metadata": {},
            "source": [
                "We are presented with a class 'POSIXct / POSIXlt'. This refers to a class that stores both date AND time. Base R offer's two closely related classes. \n",
                "\n",
                "\n",
                "\n",
                "\n",
                "## Plotting TS - without converting to a TS object (in GGPLOT)\n",
                "\n",
                "This will involve two steps \n",
                "\n",
                "1) Converting your Time Variable to a readable class in R\n",
                "2) Counting the number of crime across each week \n"
            ]
        },
        {
            "cell_type": "code",
            "execution_count": null,
            "metadata": {},
            "outputs": [],
            "source": [
                "x <- detroit  %>%\n",
                "    mutate(week = as_date(yearweek(date_single))) %>%\n",
                "    count(week)\n",
                "x\n",
                "\n",
                "class(x$week)\n",
                "\n",
                "\n",
                "x %>% \n",
                "  ggplot(aes(x = week, y = n)) +\n",
                "  geom_point() + \n",
                "  geom_smooth(formula = y ~ x, method = \"loess\", span = 0.2) +\n",
                "  scale_x_date(date_breaks = \"6 months\", date_labels = \"%b\\n%Y\", expand = c(0, 0)) +\n",
                "    scale_y_continuous(limits = c(0, NA), labels = scales::comma_format())\n"
            ]
        },
        {
            "cell_type": "markdown",
            "metadata": {},
            "source": [
                "*Top Tip* \n",
                "\n",
                "You can convert the date variable, count the crime and plot the time serires all under one line of code\n"
            ]
        },
        {
            "cell_type": "code",
            "execution_count": null,
            "metadata": {},
            "outputs": [],
            "source": [
                "# detroit %>% \n",
                "#     mutate(week = as_date(yearweek(date_single))) %>% \n",
                "#     count(week) %>% \n",
                "#     ggplot(aes(x = week, y = n)) +\n",
                "#     geom_point() +\n",
                "#     geom_smooth(formula = y ~ x, method = \"loess\", span = 0.2) +\n",
                "#     scale_x_date(date_breaks = \"12 months\", date_labels = \"%b\\n%Y\", expand = c(0, 0)) +\n",
                "#     scale_y_continuous(limits = c(0, NA), labels = scales::comma_format()) +\n",
                "#     labs(\n",
                "#       title = \"Weekly Burglary Count\",\n",
                "#       x = \"Date\",\n",
                "#       y = \"weekly Incident Count\"\n",
                "#     ) +\n",
                "#     theme_minimal()\n"
            ]
        },
        {
            "cell_type": "markdown",
            "metadata": {},
            "source": [
                "Although GGPlOT is really useful for advanced visualization, it becomes difficult to understand the underlying components of time series. \n",
                "\n",
                "This is where using a defined 'TS' object becomes useful, as we can run some decomposition models, examine stationaryity etc etc \n",
                "\n",
                "\n",
                "\n",
                "\n",
                "\n",
                "## Initial Time Series - Using TS Objects\n"
            ]
        },
        {
            "cell_type": "code",
            "execution_count": null,
            "metadata": {},
            "outputs": [],
            "source": [
                "# x <- detroit  %>%\n",
                "#     mutate(week = as_date(yearweek(date_single))) %>%\n",
                "#     count(week)\n",
                "\n",
                "y <- ts(data = x$n, frequency = 52, start = c(2015,1), end = c(2020,12))\n",
                "\n",
                "plot.ts(y) \n",
                "#autoplot(y)\n"
            ]
        },
        {
            "cell_type": "markdown",
            "metadata": {},
            "source": [
                "## Decompositions \n",
                "\n"
            ]
        },
        {
            "cell_type": "code",
            "execution_count": null,
            "metadata": {},
            "outputs": [],
            "source": [
                "#forecast package\n",
                "y %>% decompose(type=\"additive\") %>%\n",
                "  autoplot()\n",
                "y %>% decompose(type=\"multiplicative\") %>%\n",
                "  autoplot()\n",
                "\n",
                "\n",
                "#stats package\n",
                "detroit_decomp <- decompose(births)\n",
                "plot(detroit_decomp)\n"
            ]
        },
        {
            "cell_type": "markdown",
            "metadata": {},
            "source": [
                "## TimeDate Function - Accounting for Holidays \n",
                "\n",
                "Cran Documentary <https://cran.r-project.org/web/packages/timeDate/timeDate.pdf>\n",
                "\n",
                "\n",
                "We can use the holidayLONDON function to return the bank holidays in London, it returns the values as true or false. The use of this becaomes important in creating your models for forecast. When it comes to visualising you can then include this trend in your data to see whethere that week had a bank holiday in it or not. \n"
            ]
        },
        {
            "cell_type": "code",
            "execution_count": null,
            "metadata": {},
            "outputs": [],
            "source": [
                "x$bank_holiday <- x$week %in% yearweek(as_date(timeDate::holidayLONDON(year = 2020)))\n",
                "head(x)\n"
            ]
        },
        {
            "cell_type": "markdown",
            "metadata": {},
            "source": [
                "\n",
                "\n"
            ]
        }
    ],
    "metadata": {
        "anaconda-cloud": "",
        "kernelspec": {
            "display_name": "R",
            "langauge": "R",
            "name": "ir"
        },
        "language_info": {
            "codemirror_mode": "r",
            "file_extension": ".r",
            "mimetype": "text/x-r-source",
            "name": "R",
            "pygments_lexer": "r",
            "version": "3.4.1"
        }
    },
    "nbformat": 4,
    "nbformat_minor": 1
}
