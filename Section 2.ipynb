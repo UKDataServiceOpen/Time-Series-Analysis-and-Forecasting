{
    "cells": [
        {
            "cell_type": "markdown",
            "metadata": {},
            "source": "\n"
        },
        {
            "cell_type": "code",
            "execution_count": null,
            "metadata": {},
            "outputs": [],
            "source": [
                "knitr::opts_chunk$set(echo = TRUE)\n",
                "library(crimedata)\n"
            ]
        },
        {
            "cell_type": "markdown",
            "metadata": {},
            "source": [
                "## Introduction\n",
                "\n",
                "In this workshop, we'll be exploring time series analysis and forecasting using the `crimedata` package in R. Specifically, we'll be working with crime data from Detroit from 2015 to 2020. \n",
                "\n",
                "This section will use some open sourced crime data from the 'crimedata' package to examine the aims from the powerpoint slides;\n",
                "\n",
                "\n",
                "## Load Packages\n"
            ]
        },
        {
            "cell_type": "code",
            "execution_count": null,
            "metadata": {},
            "outputs": [],
            "source": [
                "library(crimedata) # package containing the crime data \n",
                "library(dplyr) #for data manipulation \n",
                "library(fable) # for time series forecasting models\n",
                "library(tsibble) #for data manipulation \n",
                "library(ggplot2) #for plotting\n",
                "library(lubridate) #for data manipulation \n",
                "library(forecast) # to create S/ARIMA models\n",
                "library(TTR) # to create rolling averages\n",
                "library(tseries) #to create time series plot \n",
                "library(readr) #to read in data\n",
                "library(ggfortify) #plotting tool for time series/PCA/cluster and survival analysis\n"
            ]
        },
        {
            "cell_type": "markdown",
            "metadata": {},
            "source": [
                "## Download Data from Detroit 2015 - 2020\n",
                "\n",
                "Using the *list_crime_data* and the *get_crime_data* we can go ahead and select the years and city we would like to use. \n",
                "\n",
                "The \n"
            ]
        },
        {
            "cell_type": "code",
            "execution_count": null,
            "metadata": {},
            "outputs": [],
            "source": [
                "#to get a full list of what years are available from which city we can use \n",
                "#Downloading list of URLs for data files. This takes a few seconds but is only done once per session.\n",
                "list_crime_data()\n",
                "\n",
                "\n",
                "#read the data for Detroit, 2015 - 2020\n",
                "crime <- get_crime_data(\n",
                "  cities = \"Detroit\",\n",
                "  years = 2015:2020,     \n",
                "  type = \"core\"\n",
                "# you can add a filter(offense_gropp == \"...\") \n",
                "  ) \n",
                "\n",
                "head(crime)\n"
            ]
        },
        {
            "cell_type": "markdown",
            "metadata": {},
            "source": [
                "## Explore the Data\n",
                "\n"
            ]
        },
        {
            "cell_type": "code",
            "execution_count": null,
            "metadata": {},
            "outputs": [],
            "source": [
                "# Group the data by offense type\n",
                "offense_count <- crime %>% \n",
                "  group_by(offense_group) %>% \n",
                "  summarise(count = n()) %>% \n",
                "  arrange(desc(count))\n",
                "\n",
                "# Print the top 10 offense types\n",
                "head(offense_count, 10)\n",
                "\n",
                "# Plot the offense count graph\n",
                "ggplot(offense_count, aes(x = reorder(offense_group, -count), y = count)) +\n",
                "  geom_bar(stat = \"identity\") +\n",
                "  coord_flip() +\n",
                "  labs(title = \"Offense Count by Type\", x = \"Offense Type\", y = \"Count\")\n",
                "\n",
                "# Select only Burglary\n",
                "burglary <- crime %>% \n",
                "  filter(offense_group == \"burglary/breaking & entering\")\n",
                "\n",
                "# Print the first few rows of the burglary data\n",
                "head(burglary)\n"
            ]
        },
        {
            "cell_type": "markdown",
            "metadata": {},
            "source": [
                "## The Reliability of Crime Statistics\n",
                "\n",
                "You may have noticed that some of our crime counts are really low - what does this mean for your analysis? As mentioned in the slides, a small dataset can increase the amount of noise in your dataset - that is the uncontrolled variation. \n",
                "\n",
                "One way we can reduce this noise (if you're interested in more than just burglary) is by grouping those crime categories with less than an 'X' amount. \n"
            ]
        },
        {
            "cell_type": "code",
            "execution_count": null,
            "metadata": {},
            "outputs": [],
            "source": [
                "#group by offence type and count the data\n",
                "crime %>% group_by(offense_group) %>% count() %>% View()\n",
                "\n",
                "#remove those small counts of crime to reduce unwanted variation \n",
                "crime <- crime %>%\n",
                "  mutate(offense_group = as.character(offense_group))\n",
                "\n",
                "minor <- crime %>% \n",
                "  count(offense_group) %>%\n",
                "  filter(n < 1000) %>%\n",
                "  pull(offense_group)\n",
                "\n",
                "minor\n",
                "\n",
                "crime <- mutate(\n",
                "  crime,\n",
                "  offense_group = case_when(\n",
                "    offense_group %in% minor ~ \"minor crimes (<1000)\", \n",
                "    TRUE ~ offense_group\n",
                "  )\n",
                ")\n",
                "\n",
                "#view the new category\n",
                "crime %>% group_by(offense_group) %>% count() %>% View()\n"
            ]
        },
        {
            "cell_type": "markdown",
            "metadata": {},
            "source": [
                "## Object Class for Time/Date Variables\n",
                "\n"
            ]
        },
        {
            "cell_type": "code",
            "execution_count": null,
            "metadata": {},
            "outputs": [],
            "source": [
                "class(burglary)\n",
                "\n"
            ]
        },
        {
            "cell_type": "markdown",
            "metadata": {},
            "source": [
                "As we can see our crime data set is currently just a 'tbl' or 'data.from. \n",
                "\n",
                "However, some functions within the package 'fable' require you to turn a data set into a 'ts object' You can still create time series plots without converting your data set, and we can do this within ggplot. \n",
                "\n",
                "But first lets explore our time variable...\n"
            ]
        },
        {
            "cell_type": "code",
            "execution_count": null,
            "metadata": {},
            "outputs": [],
            "source": [
                "class(crime$date_single)\n",
                "class(burglary$date_single)\n"
            ]
        },
        {
            "cell_type": "markdown",
            "metadata": {},
            "source": [
                "We are presented with a class 'POSIXct / POSIXlt'. This refers to a class that stores both date AND time. Base R offer's two closely related classes. \n",
                "\n",
                "You're first step would be to convert this date variable into a 'date' object so that R can recognize this and we can work with some of the packages that require you to identify a 'date' object. \n",
                "\n",
                "We can use the mutate function (from the dplyr package) to create the new variable. We also have to call on the as_date function (from the lubridate package) and the yearweek function (from the tsibble package) to create a new variable named 'week'  \n"
            ]
        },
        {
            "cell_type": "code",
            "execution_count": null,
            "metadata": {},
            "outputs": [],
            "source": [
                "burglary <- burglary %>%\n",
                "  mutate(week = as_date(yearweek(date_single)))\n",
                "\n",
                "head(burglary)\n"
            ]
        },
        {
            "cell_type": "markdown",
            "metadata": {},
            "source": [
                "## Count number of weekly crimes\n",
                "\n",
                "As established, we are interested in counting the weekly crimes which will allow for week to week comparisons. \n"
            ]
        },
        {
            "cell_type": "code",
            "execution_count": null,
            "metadata": {},
            "outputs": [],
            "source": [
                "# Create a new data frame with the count of weekly crimes\n",
                "weekly_crimes <- burglary %>%\n",
                "  mutate(week = as_date(yearweek(date_single))) %>%\n",
                "  count(week)\n",
                "\n",
                "# Print the first few rows of the weekly crimes data\n",
                "head(weekly_crimes)\n",
                "\n",
                "# Remove the first row of data\n",
                "weekly_crimes <- weekly_crimes[-1,]\n",
                "\n",
                "# Convert the data to a tsibble\n",
                "tsb_weekly_crimes <- as_tsibble(weekly_crimes, index = week)\n",
                "\n",
                "# Remove gaps\n",
                "tsb_weekly_crimes <- fill_gaps(tsb_weekly_crimes)\n",
                "\n",
                "# Remove incomplete weeks\n",
                "tsb_weekly_crimes <- tsb_weekly_crimes %>%\n",
                "  filter(!is.na(n))\n",
                "\n",
                "# Print the first few rows of the tsibble\n",
                "head(tsb_weekly_crimes)\n"
            ]
        },
        {
            "cell_type": "markdown",
            "metadata": {},
            "source": [
                "## Plotting a time series plot using GGPLOT\n",
                "\n"
            ]
        },
        {
            "cell_type": "code",
            "execution_count": null,
            "metadata": {},
            "outputs": [],
            "source": [
                "# Plot the weekly crimes using ggplot\n",
                "ggplot(weekly_crimes, aes(x = week, y = n)) +\n",
                "  geom_line() +\n",
                "  labs(title = \"Burglary Crimes per Week\", x = \"Week\", y = \"Count\")\n",
                "\n",
                "#or \n",
                "\n",
                "weekly_crimes %>% \n",
                "  ggplot(aes(x = week, y = n)) +\n",
                "  geom_point() + \n",
                "  geom_smooth(formula = y ~ x, method = \"loess\", span = 0.2) +\n",
                "  scale_x_date(date_breaks = \"6 months\", date_labels = \"%b\\n%Y\", expand = c(0, 0)) +\n",
                "    scale_y_continuous(limits = c(0, NA), labels = scales::comma_format())\n"
            ]
        },
        {
            "cell_type": "markdown",
            "metadata": {},
            "source": [
                "*Top Tip* \n",
                "\n",
                "You can convert the date variable, count the crime and plot the time series all under one line of code\n"
            ]
        },
        {
            "cell_type": "code",
            "execution_count": null,
            "metadata": {},
            "outputs": [],
            "source": [
                "# burglary %>% \n",
                "#     mutate(week = as_date(yearweek(date_single))) %>% \n",
                "#     count(week) %>% \n",
                "#     ggplot(aes(x = week, y = n)) +\n",
                "#     geom_point() +\n",
                "#     geom_smooth(formula = y ~ x, method = \"loess\", span = 0.2) +\n",
                "#     scale_x_date(date_breaks = \"12 months\", date_labels = \"%b\\n%Y\", expand = c(0, 0)) +\n",
                "#     scale_y_continuous(limits = c(0, NA), labels = scales::comma_format()) +\n",
                "#     labs(\n",
                "#       title = \"Weekly Burglary Count\",\n",
                "#       x = \"Date\",\n",
                "#       y = \"weekly Incident Count\"\n",
                "#     ) +\n",
                "#     theme_minimal()\n"
            ]
        },
        {
            "cell_type": "markdown",
            "metadata": {},
            "source": [
                "Although GGPlOT is really useful for advanced visualization, it becomes difficult to understand the underlying components of time series. \n",
                "\n",
                "This is where using a defined 'TS' object becomes useful, as we can run some decomposition models, examine stationaryity etc etc \n",
                "\n",
                "\n",
                "\n",
                "## Plotting a time series object using TS object\n",
                "\n",
                "The first line creates a time series object called \"ts_weekly_crimes\" using the \"ts\" function. This function takes several arguments, including \"data\", which specifies the data to be used, \"frequency\", which specifies the number of data points per unit of time (in this case, 52 weekly data points per year), and \"start\" and \"end\", which specify the start and end dates of the time series. The data used here is the \"n\" column from the \"weekly_crimes\" data set.\n",
                "\n",
                "The second line creates a plot of the time series using the \"autoplot\" function from the \"ggplot2\" package. This function creates a line plot with default settings and takes the time series object as its argument. The \"labs\" function is used to add a title to the plot and label the x and y axes.\n",
                "\n",
                "Alternatively, the third line creates a plot of the time series using the built-in \"plot.ts\" function, which creates a line plot of the time series object.\n"
            ]
        },
        {
            "cell_type": "code",
            "execution_count": null,
            "metadata": {},
            "outputs": [],
            "source": [
                "# Convert the weekly_crimes data to a time series object\n",
                "ts_weekly_crimes <- ts(data = weekly_crimes$n, frequency = 52, start = c(2015,1), end = c(2020,12))\n",
                "\n",
                "\n",
                "# Plot the time series using ggplot\n",
                "autoplot(ts_weekly_crimes) +\n",
                "  labs(title = \"Burglary Crimes per Week\", x = \"Week\", y = \"Count\")\n",
                "\n",
                "#Or\n",
                "plot.ts(ts_weekly_crimes)\n"
            ]
        },
        {
            "cell_type": "markdown",
            "metadata": {},
            "source": [
                "## Check for stationarity \n",
                "\n",
                "When conducting a time series analysis, it is important to check whether the data is stationary or not. The Augmented Dickey-Fuller (ADF) test is a commonly used test for this purpose.\n"
            ]
        },
        {
            "cell_type": "code",
            "execution_count": null,
            "metadata": {},
            "outputs": [],
            "source": [
                "adf.test(weekly_crimes$n)\n",
                "\n"
            ]
        },
        {
            "cell_type": "markdown",
            "metadata": {},
            "source": [
                "In your case, the ADF test has been performed on the n variable in the weekly_crimes data. The test statistic is -4.5732 and the p-value is 0.01. The test has been conducted with a lag order of 6. The null hypothesis of the test is that the data is non-stationary.\n",
                "\n",
                "If the p-value is less than the significance level (usually 0.05), then we reject the null hypothesis and conclude that the data is stationary. However, in your case, the p-value is smaller than the printed p-value, which indicates that the p-value is less than 0.0005. This means that we can reject the null hypothesis with a high degree of confidence and conclude that the data is stationary.\n",
                "\n",
                "In summary, the result of the ADF test suggests that the n variable in the weekly_crimes data is stationary.\n",
                "\n",
                "If the data was found to be non-stationary, differencing could be used to transform the data into a stationary process. One common method for differencing is first differencing, which involves taking the difference between consecutive observations.\n",
                "\n",
                "To perform first differencing in R, you could use the diff() function. Here's an example of how you could apply first differencing to the weekly_crimes$n time series:\n"
            ]
        },
        {
            "cell_type": "code",
            "execution_count": null,
            "metadata": {},
            "outputs": [],
            "source": [
                "# First order difference of time series\n",
                "#diff_ts <- diff(weekly_crimes$n)\n"
            ]
        },
        {
            "cell_type": "markdown",
            "metadata": {},
            "source": [
                "## Running decomposition plots\n",
                "\n",
                "The first section of code uses the \"stl\" function from the \"stats\" package to run a seasonal decomposition of the time series. This function takes the time series object as its argument, and the \"s.window\" argument specifies the type of seasonal window to use. The resulting decomposition object is then passed to the \"autoplot\" function from the \"ggplot2\" package to create a plot of the decomposition components, with a title and axis labels added using the \"labs\" function.\n",
                "\n",
                "The second section of code uses the built-in \"decompose\" function to decompose the time series object into its trend, seasonal, and random components. The resulting decomposition object is then passed to the \"plot\" function to create a plot of the decomposition components.\n",
                "\n",
                "The third section of code uses the \"decompose\" function from the \"forecast\" package to decompose the time series object into its trend, seasonal, and random components, either additively or multiplicatively depending on the type specified in the function. The resulting decomposition object is then passed to the \"autoplot\" function from the \"ggplot2\" package to create a plot of the decomposition components.\n"
            ]
        },
        {
            "cell_type": "code",
            "execution_count": null,
            "metadata": {},
            "outputs": [],
            "source": [
                "## Using STL package\n",
                "# Run a seasonal decomposition of the time series\n",
                "decomp_ts_weekly_crimes <- stl(ts_weekly_crimes, s.window = \"periodic\")\n",
                "autoplot(decomp_ts_weekly_crimes) +\n",
                "  labs(title = \"Burglary Crimes per Week\", x = \"Week\", y = \"Count\")\n",
                "\n",
                "\n",
                "## Using STATS package\n",
                "crime_decomp <- decompose(ts_weekly_crimes)\n",
                "plot(crime_decomp)\n",
                "#You can also extract individual trends \n",
                "trend <- crime_decomp$trend\n",
                "plot(trend)\n",
                "seasonal <- crime_decomp$seasonal\n",
                "plot(seasonal)\n",
                "\n",
                "\n",
                "## Using FORECAST package \n",
                "ts_weekly_crimes %>% decompose(type=\"additive\") %>%\n",
                "  autoplot()\n",
                "tsb_weekly_crimes %>% decompose(type=\"multiplicative\") %>%\n",
                "  autoplot()\n"
            ]
        },
        {
            "cell_type": "markdown",
            "metadata": {},
            "source": [
                "## TimeDate Function - Accounting for Holidays \n",
                "\n",
                "Cran Documentary <https://cran.r-project.org/web/packages/timeDate/timeDate.pdf>\n",
                "We can use the holidayLONDON function to return the bank holidays in London, it returns the values as true or false. The use of this becaomes important in creating your models for forecast. When it comes to visualising you can then include this trend in your data to see whethere that week had a bank holiday in it or not. \n"
            ]
        },
        {
            "cell_type": "code",
            "execution_count": null,
            "metadata": {},
            "outputs": [],
            "source": [
                "x$bank_holiday <- x$week %in% yearweek(as_date(timeDate::holidayLONDON(year = 2020)))\n",
                "head(x)\n"
            ]
        },
        {
            "cell_type": "markdown",
            "metadata": {},
            "source": [
                "## SARIMA model \n",
                "\n"
            ]
        },
        {
            "cell_type": "code",
            "execution_count": null,
            "metadata": {},
            "outputs": [],
            "source": [
                "# Split the data into train and test sets\n",
                "train <- window(ts_weekly_crimes, end = c(2019, 52))\n",
                "test <- window(ts_weekly_crimes, start = c(2020, 1))\n",
                "\n",
                "# Fit the SARIMA model\n",
                "model <- auto.arima(train, seasonal = TRUE)\n",
                "\n",
                "# Predict the burglaries for 2020\n",
                "pred <- forecast(model, h = length(test))\n",
                "forecast <- forecast(fit, h = 52)\n",
                "\n",
                "# Plot the actual and predicted burglaries for 2020\n",
                "autoplot(cbind(test, forecast$mean)) +\n",
                "  labs(title = \"Actual vs. Predicted Burglary Crimes per Week\")\n",
                "\n",
                "# Plot the forecasts and the actual values\n",
                "plot(forecast, main = \"Burglary Forecasts\")\n",
                "lines(test, col = \"red\")\n",
                "legend(\"topright\", legend = c(\"Forecast\", \"Actual\"), col = c(\"blue\", \"red\"), lty = 1)\n"
            ]
        },
        {
            "cell_type": "markdown",
            "metadata": {},
            "source": [
                "\n",
                "\n"
            ]
        }
    ],
    "metadata": {
        "anaconda-cloud": "",
        "kernelspec": {
            "display_name": "R",
            "langauge": "R",
            "name": "ir"
        },
        "language_info": {
            "codemirror_mode": "r",
            "file_extension": ".r",
            "mimetype": "text/x-r-source",
            "name": "R",
            "pygments_lexer": "r",
            "version": "3.4.1"
        }
    },
    "nbformat": 4,
    "nbformat_minor": 1
}
