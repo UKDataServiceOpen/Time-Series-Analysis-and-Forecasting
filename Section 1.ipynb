{
    "cells": [
        {
            "cell_type": "markdown",
            "metadata": {},
            "source": [
                "This section will cover the following \n",
                "\n",
                "1. Time Series Data Representations \n",
                "2. Converting Time Series Object \n",
                "3. Making Decomposition Plots \n",
                "4. Checking for Stationarity \n",
                "5. Applying Rolling Averages\n",
                "\n",
                "\n",
                "## Load Packages \n"
            ]
        },
        {
            "cell_type": "code",
            "execution_count": null,
            "metadata": {},
            "outputs": [],
            "source": [
                "library(crimedata) # package containing the crime data \n",
                "library(dplyr) #for data manipulation \n",
                "library(fable) # for time series forecasting models\n",
                "library(tsibble) #for data manipulation \n",
                "library(ggplot2) #for plotting\n",
                "library(lubridate) #for data manipulation \n",
                "library(forecast) # to create S/ARIMA models\n",
                "library(TTR) # to create rolling averages\n",
                "library(tseries) #to create time series plot \n",
                "library(readr) #to read in data\n",
                "library(ggfortify) #plotting tool for time series/PCA/cluster and survival analysis\n"
            ]
        },
        {
            "cell_type": "markdown",
            "metadata": {},
            "source": [
                "## Time Series Data Representation \n",
                "\n",
                "\n",
                "We will first start this code demo by exploring some different types of time series data \n",
                "\n",
                "Typically when working with data in R, you need to decide the object class of your data at hand. This is important because the object class you choice affects more than the data is stored; it will dictate which functions will be available for data pre-processing, analysing and plotting. \n",
                "\n",
                "Typically data in R is stored as a vector. However, when working with time series data we tend to have to convert to the right object class known as a 'time series object' \n",
                "\n",
                "R has at least eight different implementations of data structures for representing time series data. The list below identifies the most frequently used packages\n",
                "\n",
                "> ts #base package \n",
                "> zoo \n",
                "> xts \n",
                "> tsibble \n",
                "\n",
                "\n",
                "\n",
                "\n",
                "## King - (non-seasonal)\n",
                "\n",
                "We will first use a data set named 'Kings' which is an example of a small time series data. It records the age of death for 42 successive king of Enlgand.\n",
                "\n",
                "The data set can be found here: <https://robjhyndman.com/tsdldata/misc/kings.dat>\n",
                "\n",
                "AS this data is a text file we can read in the data using the *scan()* function. \n"
            ]
        },
        {
            "cell_type": "code",
            "execution_count": null,
            "metadata": {},
            "outputs": [],
            "source": [
                "king <- scan('https://robjhyndman.com/tsdldata/misc/kings.dat', skip = 3) \n",
                "king\n",
                "\n",
                "class(king)\n"
            ]
        },
        {
            "cell_type": "markdown",
            "metadata": {},
            "source": [
                "To convert a dataframe to a time series object we can use the 'ts' function from the base package \n",
                "\n"
            ]
        },
        {
            "cell_type": "code",
            "execution_count": null,
            "metadata": {},
            "outputs": [],
            "source": [
                "king <- ts(king)\n",
                "\n",
                "class(king)\n",
                "king\n"
            ]
        },
        {
            "cell_type": "markdown",
            "metadata": {},
            "source": [
                "## Births - Seasonal Data \n",
                "\n",
                "What happens if we have data that has been collected at more regular intervals i.e. monthly, weekly, quarterly etc. \n",
                "\n",
                "If this is the case you would have to specify the number of times that day was collected pet year using the *frequency* parameter. \n",
                "\n",
                "Lets explore this with a different dataset, named 'Births' which refers to the number of births per month in New York City, from 1946 to 1958. \n",
                "\n",
                "The dataset can be found here: <\"http://robjhyndman.com/tsdldata/data/nybirths.dat\">, This time we can call on some more parameters, the code to do so would look like this *ts(vector, start=, end=, frequency=)*\n"
            ]
        },
        {
            "cell_type": "code",
            "execution_count": null,
            "metadata": {},
            "outputs": [],
            "source": [
                "births <- scan(\"http://robjhyndman.com/tsdldata/data/nybirths.dat\")\n",
                "births\n",
                "\n",
                "\n",
                "births <- ts(births, frequency = 12, start = c(1946, 1))\n",
                "births\n"
            ]
        },
        {
            "cell_type": "markdown",
            "metadata": {},
            "source": [
                "## Plotting a Time Series Dataset \n",
                "\n",
                "To plot both datasets (seasonal or non-seasonal) you can use the\n",
                "*plot.ts* function from the ts package. \n"
            ]
        },
        {
            "cell_type": "code",
            "execution_count": null,
            "metadata": {},
            "outputs": [],
            "source": [
                "plot.ts(king)\n",
                "plot.ts(births)\n"
            ]
        },
        {
            "cell_type": "markdown",
            "metadata": {},
            "source": [
                "## Plotting TS objects using Ggplot\n",
                "\n"
            ]
        },
        {
            "cell_type": "code",
            "execution_count": null,
            "metadata": {},
            "outputs": [],
            "source": [
                "library(ggfortify)\n",
                "autoplot(births)\n",
                "\n",
                "\n",
                "autoplot(births, ts.geom = \"ribbon\", fill = \"grey\")\n"
            ]
        },
        {
            "cell_type": "markdown",
            "metadata": {},
            "source": [
                "## Plotting with the Forecast package \n",
                "\n",
                "S/ARIMA = \n",
                "Seasonal (S) / Autoregressive (AR) / Integrated (I) / Moving Average (MA)\n"
            ]
        },
        {
            "cell_type": "code",
            "execution_count": null,
            "metadata": {},
            "outputs": [],
            "source": [
                "library(forecast)\n",
                "\n",
                "#run the model \n",
                "births_arima <- auto.arima(births, seasonal = T)\n",
                "print(summary(births_arima))\n",
                "checkresiduals(births_arima)\n",
                "\n",
                "#make the forecast \n",
                "births_forecast <- forecast(births_arima, h = 12)\n",
                "print(births_forecast)\n",
                "\n",
                "#plot \n",
                "autoplot(births_forecast)\n"
            ]
        },
        {
            "cell_type": "markdown",
            "metadata": {},
            "source": [
                "## Decomposition\n",
                "\n",
                "*ts = seasonality (s) + trend (t) + noise (n) + cycle (c)\n",
                "\n",
                "Additive compononent = [s+t+n*c]\n",
                "Multiplicative Component = [s*t*n*c]\n"
            ]
        },
        {
            "cell_type": "code",
            "execution_count": null,
            "metadata": {},
            "outputs": [],
            "source": [
                "birth_decomp <- decompose(births)\n",
                "head(birth_decomp)\n",
                "plot(birth_decomp)\n",
                "\n",
                "# you can improve the graphics by using the autoplot function from the forecast package\n",
                "births %>% decompose %>% \n",
                "  autoplot()\n"
            ]
        },
        {
            "cell_type": "markdown",
            "metadata": {},
            "source": [
                "## How to remove seasonality from your data (seasonal adjustment)?\n",
                "\n",
                "*To seasonally adjust a additive model (Time Series - Seasonal)\n",
                "*To seasonally adjust a multiplicative model (Time Series / Seasonal)\n"
            ]
        },
        {
            "cell_type": "code",
            "execution_count": null,
            "metadata": {},
            "outputs": [],
            "source": [
                "adjusted_births <- births - birth_decomp$seasonal\n",
                "plot(adjusted_births)\n"
            ]
        },
        {
            "cell_type": "markdown",
            "metadata": {},
            "source": [
                "## Checking for Stationarity \n",
                "\n",
                "To reiterate,a time series is said weakly stationary if \n",
                "\n",
                "-  its mean is constant\n",
                "-  its standard deviation is constant \n",
                "-  its cross covariance does not depend on time but depends only on the lag between the two series concerned. \n",
                "\n",
                "There are two ways to check for this; \n",
                "\n",
                "\n",
                "1. the graphical way \n"
            ]
        },
        {
            "cell_type": "code",
            "execution_count": null,
            "metadata": {},
            "outputs": [],
            "source": [
                "ts.plot(king)\n",
                "\n"
            ]
        },
        {
            "cell_type": "markdown",
            "metadata": {},
            "source": [
                "2. the statistical method\n",
                "\n",
                "We can use the Augmented Dickey–Fuller (ADF) t-statistic test to find if the series has a unit root (a series with a trend line will have a unit root and result in a large p-value).\n"
            ]
        },
        {
            "cell_type": "code",
            "execution_count": null,
            "metadata": {},
            "outputs": [],
            "source": [
                "library(tseries)\n",
                "adf.test(king)\n"
            ]
        },
        {
            "cell_type": "markdown",
            "metadata": {},
            "source": [
                "## The Zoo Package -\n",
                "\n",
                "The zoo package consists of the methods for totally ordered indexed observations. It aims at performing calculations containing irregular time series of numeric vectors, matrices & factors. The zoo package interfaces to all other time series packages on CRAN.\n",
                "\n",
                "We are going to look how how to run rolling averages, in order to smooth our data \n"
            ]
        },
        {
            "cell_type": "code",
            "execution_count": null,
            "metadata": {},
            "outputs": [],
            "source": [
                "install.packages(\"zoo\")\n",
                "require(\"zoo\")\n",
                "\n",
                "#load the average temperature by month and year in Nottingham via the 'nottem' dataset. This exists in base R. \n",
                "data(\"nottem\")\n",
                "\n",
                "#plot \n",
                "plot(nottem)\n",
                "\n",
                "#add some labels via the autoplot functio\n",
                "theme_set(theme_bw())\n",
                "autoplot(nottem) + xlab(\"\") + ylab(\"\") + ggtitle(\"Time Series Plot of the `nottem' Time-Series\") + \n",
                "    theme(plot.title = element_text(hjust = 0.5))\n",
                "\n",
                "#lets also view the seasonal subseries as well\n",
                "ggsubseriesplot(nottem)\n",
                "\n",
                "#before smoothing lets explore some descriptive statistics\n",
                "library(xtable)\n",
                "nottem2 <- xtable(nottem)\n",
                "head(nottem)\n",
                "summary(nottem2)\n",
                "\n",
                "#is the data monthly quartely, yearly etc>\n",
                "frequency(nottem)\n",
                "\n",
                "\n",
                "#lets decompose this data and plot the seperate trends\n",
                "decompose(nottem, type = \"additive\") \n",
                "plot(decompose(nottem, type = \"additive\"))\n",
                "#with autoplot()\n",
                "autoplot(decompose(nottem, type = \"additive\")) + xlab(\"\") + ylab(\"\") + \n",
                "    ggtitle(\"Decomposition plot of the `nottem' Time-Series\") + \n",
                "    theme(plot.title = element_text(hjust = 0.5))\n",
                "\n",
                "\n",
                "#and what about removing the seasonally adjusted data\n",
                "x <- decompose(nottem, \"additive\")\n",
                "nottem_adjusted <- nottem - x$seasonal\n",
                "plot(nottem_adjusted)\n",
                "#remember you can plot the separate components like so\n",
                "plot(x$seasonal)\n"
            ]
        },
        {
            "cell_type": "markdown",
            "metadata": {},
            "source": [
                "## What happens when we smooth data?\n",
                "\n"
            ]
        },
        {
            "cell_type": "code",
            "execution_count": null,
            "metadata": {},
            "outputs": [],
            "source": [
                "#smooth \n",
                "not_mean <- rollmean(nottem, 12,fill = NA, align = \"right\")\n",
                "not_mean\n",
                "plot(not_mean)\n"
            ]
        },
        {
            "cell_type": "markdown",
            "metadata": {},
            "source": [
                "## The XTS package \n",
                "\n",
                "XTS stands for eXtensible time series. It is an extension of the zoo object that includes a matrix and index. Xts is a matrix with associated times for each observation\n",
                "\n",
                "Lets have a look at how we would convert the nottem time series in a xts object and why we might want to do this.\n"
            ]
        },
        {
            "cell_type": "code",
            "execution_count": null,
            "metadata": {},
            "outputs": [],
            "source": [
                "library(xts)\n",
                "\n",
                "\n",
                "\n",
                "#this is how you would convert a df to a xts object \n",
                "data(\"nottem\")\n",
                "xts2 <- as.xts(nottem)\n",
                "xts2_m <- as.matrix(xts2)\n",
                "head(xts2_m)\n"
            ]
        },
        {
            "cell_type": "markdown",
            "metadata": {},
            "source": [
                "In order to understand the xts objects, let us create an xts object work that stores the number of hours that someone has worked along with some attributes about them like birth date. \n",
                "\n"
            ]
        },
        {
            "cell_type": "code",
            "execution_count": null,
            "metadata": {},
            "outputs": [],
            "source": [
                "library(xts)\n",
                "\n",
                "# Create the object data using 5 random numbers\n",
                "hours <- rnorm(20, mean = 8)\n",
                "\n",
                "# Create dates as a Date class object starting from 1922-01-01\n",
                "dates <- seq(as.Date(\"1922-01-01\"), length = 20, by = \"days\")\n",
                "\n",
                "# Create birthday a POSIXct date class object\n",
                "dob <- as.POSIXct(\"1900-01-08\")\n",
                "\n",
                "# Create xts object work\n",
                "work <- xts(x = hours, order.by = dates, born = dob)\n",
                "\n",
                "#We can look at the structure of an xts object using the str() function.\n",
                "str(work)\n"
            ]
        },
        {
            "cell_type": "markdown",
            "metadata": {},
            "source": [
                "When working with time series, it will sometimes be necessary to separate your time series into its core data and index attributes for additional analysis and manipulation. The core data is the matrix portion of xts. You can separate this from the xts object using coredata(). The index portion of the xts object is available using the index() function. \n",
                "\n",
                "## Lets explore the xts object\n"
            ]
        },
        {
            "cell_type": "code",
            "execution_count": null,
            "metadata": {},
            "outputs": [],
            "source": [
                "# Extract the core data \n",
                "hours <- coredata(work)\n",
                "\n",
                "# View the class of core data\n",
                "class(hours)\n",
                "\n",
                "# Extract the index data\n",
                "index <- index(work)\n",
                "\n",
                "# View the class of index\n",
                "class(index)\n"
            ]
        },
        {
            "cell_type": "markdown",
            "metadata": {},
            "source": [
                "## Subset the data \n",
                "\n",
                "It is often required when working with time series data to filter observations over a certain time range like a week, day or month. \n"
            ]
        },
        {
            "cell_type": "code",
            "execution_count": null,
            "metadata": {},
            "outputs": [],
            "source": [
                "last(work, n = '2 weeks')\n",
                "first(work, n = '2 weeks')\n"
            ]
        },
        {
            "cell_type": "markdown",
            "metadata": {},
            "source": [
                "\n",
                "\n"
            ]
        }
    ],
    "metadata": {
        "anaconda-cloud": "",
        "kernelspec": {
            "display_name": "R",
            "langauge": "R",
            "name": "ir"
        },
        "language_info": {
            "codemirror_mode": "r",
            "file_extension": ".r",
            "mimetype": "text/x-r-source",
            "name": "R",
            "pygments_lexer": "r",
            "version": "3.4.1"
        }
    },
    "nbformat": 4,
    "nbformat_minor": 1
}
